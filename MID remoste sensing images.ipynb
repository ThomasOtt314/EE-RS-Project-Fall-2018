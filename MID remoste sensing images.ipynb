{
 "cells": [
  {
   "cell_type": "code",
   "execution_count": 17,
   "metadata": {},
   "outputs": [],
   "source": [
    "import bqplot\n",
    "import datetime\n",
    "import dateutil.parser\n",
    "import ee\n",
    "import ipywidgets\n",
    "import IPython.display\n",
    "import numpy as np\n",
    "import pprint\n",
    "import pandas as pd\n",
    "import traitlets\n",
    "\n",
    "pp = pprint.PrettyPrinter(depth = 4)\n",
    "ee.Initialize()"
   ]
  },
  {
   "cell_type": "code",
   "execution_count": 18,
   "metadata": {},
   "outputs": [],
   "source": [
    "N_coor = 37.604222\n",
    "W_coor = -121.09449"
   ]
  },
  {
   "cell_type": "code",
   "execution_count": 19,
   "metadata": {},
   "outputs": [],
   "source": [
    "s2sr = ee.ImageCollection(\"COPERNICUS/S2\")"
   ]
  },
  {
   "cell_type": "code",
   "execution_count": 20,
   "metadata": {},
   "outputs": [
    {
     "name": "stdout",
     "output_type": "stream",
     "text": [
      "6591086\n"
     ]
    }
   ],
   "source": [
    "print(s2sr.size().getInfo())"
   ]
  },
  {
   "cell_type": "code",
   "execution_count": 21,
   "metadata": {},
   "outputs": [
    {
     "data": {
      "text/plain": [
       "['B1',\n",
       " 'B2',\n",
       " 'B3',\n",
       " 'B4',\n",
       " 'B5',\n",
       " 'B6',\n",
       " 'B7',\n",
       " 'B8',\n",
       " 'B8A',\n",
       " 'B9',\n",
       " 'B10',\n",
       " 'B11',\n",
       " 'B12',\n",
       " 'QA10',\n",
       " 'QA20',\n",
       " 'QA60']"
      ]
     },
     "execution_count": 21,
     "metadata": {},
     "output_type": "execute_result"
    }
   ],
   "source": [
    "sample_image = ee.Image(\n",
    "    s2sr.filterDate(\"2017-06-01\", \"2017-06-20\")\n",
    "        .filterBounds(ee.Geometry.Point(W_coor, N_coor))\n",
    "        .first()\n",
    ")\n",
    "band_names_original = sample_image.bandNames()\n",
    "band_names_original.getInfo()"
   ]
  },
  {
   "cell_type": "code",
   "execution_count": 22,
   "metadata": {},
   "outputs": [],
   "source": [
    "s2_bands = ee.Dictionary({\n",
    "    \"B1\": \"aerosols\",\n",
    "    \"B2\": \"blue\",\n",
    "    \"B3\": \"green\",\n",
    "    \"B4\": \"red\",\n",
    "    \"B5\": \"red_edge1\",\n",
    "    \"B6\": \"red_edge2\",\n",
    "    \"B7\": \"red_edge3\",\n",
    "    \"B8\": \"nir\",\n",
    "    \"B8A\": \"red_edge4\",\n",
    "    \"B9\": \"water_vapor\",\n",
    "    \"B10\": \"cirrus\",\n",
    "    \"B11\": \"swir1\",\n",
    "    \"B12\": \"swir2\",\n",
    "    \"QA10\": \"QA10\",\n",
    "    \"QA20\": \"QA20\",\n",
    "    \"QA60\": \"QA60\"\n",
    "})\n",
    "band_names_new = s2_bands.values(sample_image.bandNames())\n",
    "s2sr = s2sr.select(band_names_original, band_names_new)"
   ]
  },
  {
   "cell_type": "code",
   "execution_count": 23,
   "metadata": {},
   "outputs": [
    {
     "name": "stdout",
     "output_type": "stream",
     "text": [
      "{'bands': [{'crs': 'EPSG:32610',\n",
      "            'crs_transform': [60.0, 0.0, 600000.0, 0.0, -60.0, 4200000.0],\n",
      "            'data_type': {'max': 65535,\n",
      "                          'min': 0,\n",
      "                          'precision': 'int',\n",
      "                          'type': 'PixelType'},\n",
      "            'dimensions': [1830, 1830],\n",
      "            'id': 'aerosols'},\n",
      "           {'crs': 'EPSG:32610',\n",
      "            'crs_transform': [10.0, 0.0, 600000.0, 0.0, -10.0, 4200000.0],\n",
      "            'data_type': {'max': 65535,\n",
      "                          'min': 0,\n",
      "                          'precision': 'int',\n",
      "                          'type': 'PixelType'},\n",
      "            'dimensions': [10980, 10980],\n",
      "            'id': 'blue'},\n",
      "           {'crs': 'EPSG:32610',\n",
      "            'crs_transform': [10.0, 0.0, 600000.0, 0.0, -10.0, 4200000.0],\n",
      "            'data_type': {'max': 65535,\n",
      "                          'min': 0,\n",
      "                          'precision': 'int',\n",
      "                          'type': 'PixelType'},\n",
      "            'dimensions': [10980, 10980],\n",
      "            'id': 'green'},\n",
      "           {'crs': 'EPSG:32610',\n",
      "            'crs_transform': [10.0, 0.0, 600000.0, 0.0, -10.0, 4200000.0],\n",
      "            'data_type': {'max': 65535,\n",
      "                          'min': 0,\n",
      "                          'precision': 'int',\n",
      "                          'type': 'PixelType'},\n",
      "            'dimensions': [10980, 10980],\n",
      "            'id': 'red'},\n",
      "           {'crs': 'EPSG:32610',\n",
      "            'crs_transform': [20.0, 0.0, 600000.0, 0.0, -20.0, 4200000.0],\n",
      "            'data_type': {'max': 65535,\n",
      "                          'min': 0,\n",
      "                          'precision': 'int',\n",
      "                          'type': 'PixelType'},\n",
      "            'dimensions': [5490, 5490],\n",
      "            'id': 'red_edge1'},\n",
      "           {'crs': 'EPSG:32610',\n",
      "            'crs_transform': [20.0, 0.0, 600000.0, 0.0, -20.0, 4200000.0],\n",
      "            'data_type': {'max': 65535,\n",
      "                          'min': 0,\n",
      "                          'precision': 'int',\n",
      "                          'type': 'PixelType'},\n",
      "            'dimensions': [5490, 5490],\n",
      "            'id': 'red_edge2'},\n",
      "           {'crs': 'EPSG:32610',\n",
      "            'crs_transform': [20.0, 0.0, 600000.0, 0.0, -20.0, 4200000.0],\n",
      "            'data_type': {'max': 65535,\n",
      "                          'min': 0,\n",
      "                          'precision': 'int',\n",
      "                          'type': 'PixelType'},\n",
      "            'dimensions': [5490, 5490],\n",
      "            'id': 'red_edge3'},\n",
      "           {'crs': 'EPSG:32610',\n",
      "            'crs_transform': [10.0, 0.0, 600000.0, 0.0, -10.0, 4200000.0],\n",
      "            'data_type': {'max': 65535,\n",
      "                          'min': 0,\n",
      "                          'precision': 'int',\n",
      "                          'type': 'PixelType'},\n",
      "            'dimensions': [10980, 10980],\n",
      "            'id': 'nir'},\n",
      "           {'crs': 'EPSG:32610',\n",
      "            'crs_transform': [20.0, 0.0, 600000.0, 0.0, -20.0, 4200000.0],\n",
      "            'data_type': {'max': 65535,\n",
      "                          'min': 0,\n",
      "                          'precision': 'int',\n",
      "                          'type': 'PixelType'},\n",
      "            'dimensions': [5490, 5490],\n",
      "            'id': 'red_edge4'},\n",
      "           {'crs': 'EPSG:32610',\n",
      "            'crs_transform': [60.0, 0.0, 600000.0, 0.0, -60.0, 4200000.0],\n",
      "            'data_type': {'max': 65535,\n",
      "                          'min': 0,\n",
      "                          'precision': 'int',\n",
      "                          'type': 'PixelType'},\n",
      "            'dimensions': [1830, 1830],\n",
      "            'id': 'water_vapor'},\n",
      "           {'crs': 'EPSG:32610',\n",
      "            'crs_transform': [60.0, 0.0, 600000.0, 0.0, -60.0, 4200000.0],\n",
      "            'data_type': {'max': 65535,\n",
      "                          'min': 0,\n",
      "                          'precision': 'int',\n",
      "                          'type': 'PixelType'},\n",
      "            'dimensions': [1830, 1830],\n",
      "            'id': 'cirrus'},\n",
      "           {'crs': 'EPSG:32610',\n",
      "            'crs_transform': [20.0, 0.0, 600000.0, 0.0, -20.0, 4200000.0],\n",
      "            'data_type': {'max': 65535,\n",
      "                          'min': 0,\n",
      "                          'precision': 'int',\n",
      "                          'type': 'PixelType'},\n",
      "            'dimensions': [5490, 5490],\n",
      "            'id': 'swir1'},\n",
      "           {'crs': 'EPSG:32610',\n",
      "            'crs_transform': [20.0, 0.0, 600000.0, 0.0, -20.0, 4200000.0],\n",
      "            'data_type': {'max': 65535,\n",
      "                          'min': 0,\n",
      "                          'precision': 'int',\n",
      "                          'type': 'PixelType'},\n",
      "            'dimensions': [5490, 5490],\n",
      "            'id': 'swir2'},\n",
      "           {'crs': 'EPSG:32610',\n",
      "            'crs_transform': [10.0, 0.0, 600000.0, 0.0, -10.0, 4200000.0],\n",
      "            'data_type': {'max': 65535,\n",
      "                          'min': 0,\n",
      "                          'precision': 'int',\n",
      "                          'type': 'PixelType'},\n",
      "            'dimensions': [10980, 10980],\n",
      "            'id': 'QA10'},\n",
      "           {'crs': 'EPSG:32610',\n",
      "            'crs_transform': [20.0, 0.0, 600000.0, 0.0, -20.0, 4200000.0],\n",
      "            'data_type': {'max': 4294967295,\n",
      "                          'min': 0,\n",
      "                          'precision': 'int',\n",
      "                          'type': 'PixelType'},\n",
      "            'dimensions': [5490, 5490],\n",
      "            'id': 'QA20'},\n",
      "           {'crs': 'EPSG:32610',\n",
      "            'crs_transform': [60.0, 0.0, 600000.0, 0.0, -60.0, 4200000.0],\n",
      "            'data_type': {'max': 65535,\n",
      "                          'min': 0,\n",
      "                          'precision': 'int',\n",
      "                          'type': 'PixelType'},\n",
      "            'dimensions': [1830, 1830],\n",
      "            'id': 'QA60'}],\n",
      " 'id': 'COPERNICUS/S2/20170619T184921_20170619T185728_T10SFG',\n",
      " 'properties': {'CLOUDY_PIXEL_PERCENTAGE': 0.0,\n",
      "                'CLOUD_COVERAGE_ASSESSMENT': 0.0,\n",
      "                'DATASTRIP_ID': 'S2A_OPER_MSI_L1C_DS_MPS__20170619T221005_S20170619T185728_N02.05',\n",
      "                'DATATAKE_IDENTIFIER': 'GS2A_20170619T184921_010406_N02.05',\n",
      "                'DATATAKE_TYPE': 'INS-NOBS',\n",
      "                'DEGRADED_MSI_DATA_PERCENTAGE': 0.0,\n",
      "                'ECMWF_DATA_REF': 'S2__OPER_AUX_ECMWFD_PDMC_20170619T000000_V20170619T090000_20170619T210000',\n",
      "                'FORMAT_CORRECTNESS_FLAG': 'PASSED',\n",
      "                'GENERAL_QUALITY_FLAG': 'PASSED',\n",
      "                'GENERATION_TIME': 1497898648000,\n",
      "                'GEOMETRIC_QUALITY_FLAG': 'PASSED',\n",
      "                'GRANULE_ID': 'L1C_T10SFG_A010406_20170619T185728',\n",
      "                'GRI_FILENAME': 'S2A_OPER_AUX_GRI065_PDMC_20130621T120000_S20130101T000000',\n",
      "                'IERS_BULLETIN_FILENAME': 'S2__OPER_AUX_UT1UTC_PDMC_20170615T000000_V20170616T000000_20180615T000000',\n",
      "                'MEAN_INCIDENCE_AZIMUTH_ANGLE_B1': 271.524675372,\n",
      "                'MEAN_INCIDENCE_AZIMUTH_ANGLE_B10': 271.625633505,\n",
      "                'MEAN_INCIDENCE_AZIMUTH_ANGLE_B11': 271.263744317,\n",
      "                'MEAN_INCIDENCE_AZIMUTH_ANGLE_B12': 271.007090958,\n",
      "                'MEAN_INCIDENCE_AZIMUTH_ANGLE_B2': 273.518368029,\n",
      "                'MEAN_INCIDENCE_AZIMUTH_ANGLE_B3': 272.636716989,\n",
      "                'MEAN_INCIDENCE_AZIMUTH_ANGLE_B4': 272.099249725,\n",
      "                'MEAN_INCIDENCE_AZIMUTH_ANGLE_B5': 271.914202486,\n",
      "                'MEAN_INCIDENCE_AZIMUTH_ANGLE_B6': 271.797901789,\n",
      "                'MEAN_INCIDENCE_AZIMUTH_ANGLE_B7': 271.696873095,\n",
      "                'MEAN_INCIDENCE_AZIMUTH_ANGLE_B8': 273.014418278,\n",
      "                'MEAN_INCIDENCE_AZIMUTH_ANGLE_B8A': 271.748667326,\n",
      "                'MEAN_INCIDENCE_AZIMUTH_ANGLE_B9': 271.547657868,\n",
      "                'MEAN_INCIDENCE_ZENITH_ANGLE_B1': 5.14228620855,\n",
      "                'MEAN_INCIDENCE_ZENITH_ANGLE_B10': 4.84600308284,\n",
      "                'MEAN_INCIDENCE_ZENITH_ANGLE_B11': 4.96212242489,\n",
      "                'MEAN_INCIDENCE_ZENITH_ANGLE_B12': 5.09508298592,\n",
      "                'MEAN_INCIDENCE_ZENITH_ANGLE_B2': 4.729950332,\n",
      "                'MEAN_INCIDENCE_ZENITH_ANGLE_B3': 4.79743856773,\n",
      "                'MEAN_INCIDENCE_ZENITH_ANGLE_B4': 4.86492375782,\n",
      "                'MEAN_INCIDENCE_ZENITH_ANGLE_B5': 4.91322917811,\n",
      "                'MEAN_INCIDENCE_ZENITH_ANGLE_B6': 4.96496833078,\n",
      "                'MEAN_INCIDENCE_ZENITH_ANGLE_B7': 5.02058659385,\n",
      "                'MEAN_INCIDENCE_ZENITH_ANGLE_B8': 4.7612861226,\n",
      "                'MEAN_INCIDENCE_ZENITH_ANGLE_B8A': 5.08284664642,\n",
      "                'MEAN_INCIDENCE_ZENITH_ANGLE_B9': 5.21382385379,\n",
      "                'MEAN_SOLAR_AZIMUTH_ANGLE': 131.960471996,\n",
      "                'MEAN_SOLAR_ZENITH_ANGLE': 19.3592773917,\n",
      "                'MGRS_TILE': '10SFG',\n",
      "                'PROCESSING_BASELINE': '02.05',\n",
      "                'PRODUCTION_DEM_TYPE': 'S2__OPER_DEM_GLOBEF_PDMC_19800101T000000_S19800101T000000',\n",
      "                'PRODUCT_ID': 'S2A_MSIL1C_20170619T184921_N0205_R113_T10SFG_20170619T185728',\n",
      "                'PRODUCT_URI': 'S2A_MSIL1C_20170619T184921_N0205_R113_T10SFG_20170619T185728.SAFE',\n",
      "                'RADIOMETRIC_QUALITY_FLAG': 'PASSED',\n",
      "                'REFLECTANCE_CONVERSION_CORRECTION': 0.968972633323,\n",
      "                'SENSING_ORBIT_DIRECTION': 'DESCENDING',\n",
      "                'SENSING_ORBIT_NUMBER': 113.0,\n",
      "                'SENSOR_QUALITY_FLAG': 'PASSED',\n",
      "                'SOLAR_IRRADIANCE_B1': 1913.57,\n",
      "                'SOLAR_IRRADIANCE_B10': 367.15,\n",
      "                'SOLAR_IRRADIANCE_B11': 245.59,\n",
      "                'SOLAR_IRRADIANCE_B12': 85.25,\n",
      "                'SOLAR_IRRADIANCE_B2': 1941.63,\n",
      "                'SOLAR_IRRADIANCE_B3': 1822.61,\n",
      "                'SOLAR_IRRADIANCE_B4': 1512.79,\n",
      "                'SOLAR_IRRADIANCE_B5': 1425.56,\n",
      "                'SOLAR_IRRADIANCE_B6': 1288.32,\n",
      "                'SOLAR_IRRADIANCE_B7': 1163.19,\n",
      "                'SOLAR_IRRADIANCE_B8': 1036.39,\n",
      "                'SOLAR_IRRADIANCE_B8A': 955.19,\n",
      "                'SOLAR_IRRADIANCE_B9': 813.04,\n",
      "                'SPACECRAFT_NAME': 'Sentinel-2A',\n",
      "                'system:asset_size': 1325692193,\n",
      "                'system:footprint': {'coordinates': [[...],\n",
      "                                                     [...],\n",
      "                                                     [...],\n",
      "                                                     [...],\n",
      "                                                     [...],\n",
      "                                                     [...],\n",
      "                                                     [...],\n",
      "                                                     [...],\n",
      "                                                     [...],\n",
      "                                                     [...],\n",
      "                                                     [...],\n",
      "                                                     [...],\n",
      "                                                     [...],\n",
      "                                                     [...],\n",
      "                                                     [...],\n",
      "                                                     [...],\n",
      "                                                     [...],\n",
      "                                                     [...],\n",
      "                                                     [...],\n",
      "                                                     [...]],\n",
      "                                     'type': 'LinearRing'},\n",
      "                'system:index': '20170619T184921_20170619T185728_T10SFG',\n",
      "                'system:time_end': 1497898648120,\n",
      "                'system:time_start': 1497898648120},\n",
      " 'type': 'Image',\n",
      " 'version': 1498026214728000}\n"
     ]
    }
   ],
   "source": [
    "sample_image = ee.Image(\n",
    "    s2sr.filterDate(\"2017-06-01\", \"2017-06-20\")\n",
    "        .filterBounds(ee.Geometry.Point(W_coor, N_coor))\n",
    "        .first()\n",
    ")\n",
    "pp.pprint(sample_image.getInfo())"
   ]
  },
  {
   "cell_type": "code",
   "execution_count": 25,
   "metadata": {},
   "outputs": [
    {
     "data": {
      "text/html": [
       "<img src=\"https://earthengine.googleapis.com/api/thumb?thumbid=9e081d36ef6d5dc2fac50e488bd02678&token=e3fc26c61df16828f57788709e848611\"/>"
      ],
      "text/plain": [
       "<IPython.core.display.Image object>"
      ]
     },
     "execution_count": 25,
     "metadata": {},
     "output_type": "execute_result"
    }
   ],
   "source": [
    "IPython.display.Image(url=thumbnail_url)"
   ]
  },
  {
   "cell_type": "code",
   "execution_count": 29,
   "metadata": {},
   "outputs": [],
   "source": [
    "ndvi = sample_image.normalizedDifference([\"nir\", \"red\"])"
   ]
  },
  {
   "cell_type": "code",
   "execution_count": 32,
   "metadata": {},
   "outputs": [
    {
     "data": {
      "text/plain": [
       "<ee.image.Image at 0x1f994482e48>"
      ]
     },
     "execution_count": 32,
     "metadata": {},
     "output_type": "execute_result"
    }
   ],
   "source": [
    "ndvi"
   ]
  },
  {
   "cell_type": "code",
   "execution_count": 26,
   "metadata": {},
   "outputs": [
    {
     "data": {
      "application/vnd.jupyter.widget-view+json": {
       "model_id": "c47529db5ee54c3eb254d426278b3820",
       "version_major": 2,
       "version_minor": 0
      },
      "text/plain": [
       "Map(basemap={'url': 'https://{s}.tile.openstreetmap.org/{z}/{x}/{y}.png', 'max_zoom': 19, 'attribution': 'Map …"
      ]
     },
     "metadata": {},
     "output_type": "display_data"
    }
   ],
   "source": [
    "import ipyleaflet\n",
    "map1 = ipyleaflet.Map(zoom=3, layout={\"height\":\"400px\"})\n",
    "dc = ipyleaflet.DrawControl()\n",
    "map1.add_control(dc)\n",
    "map1"
   ]
  },
  {
   "cell_type": "code",
   "execution_count": 27,
   "metadata": {},
   "outputs": [
    {
     "data": {
      "text/plain": [
       "{'type': 'Feature', 'geometry': None}"
      ]
     },
     "execution_count": 27,
     "metadata": {},
     "output_type": "execute_result"
    }
   ],
   "source": [
    "dc.last_draw"
   ]
  },
  {
   "cell_type": "code",
   "execution_count": null,
   "metadata": {},
   "outputs": [],
   "source": [
    "def GetTileLayerUrl(ee_image_object):\n",
    "    map_id = ee.Image(ee_image_object).getMapId()\n",
    "    tile_url_template = \"https://earthengine.googleapis.com/map/{mapid}/{{z}}/{{x}}/{{y}}?token={token}\"\n",
    "    return tile_url_template.format(**map_id)"
   ]
  },
  {
   "cell_type": "code",
   "execution_count": null,
   "metadata": {},
   "outputs": [],
   "source": [
    "#Style the imgae.\n",
    "tile_url = GetTileLayerUrl(sample_image.visualize(min = 0, max = 3000, gamma=1.5, bands = [\"nir\", \"red\", \"green\"]))\n",
    "map1.add_layer(ipyleaflet.TileLayer(url=tile_url))"
   ]
  },
  {
   "cell_type": "code",
   "execution_count": null,
   "metadata": {},
   "outputs": [],
   "source": [
    "x = ee.FeatureCollection(\"ft:1At_oxD74f9ABEqS9r3G_45F8qQBMErpO7fz4-Ias\")"
   ]
  },
  {
   "cell_type": "code",
   "execution_count": null,
   "metadata": {},
   "outputs": [],
   "source": [
    "map1.add_layer(x)"
   ]
  },
  {
   "cell_type": "code",
   "execution_count": null,
   "metadata": {},
   "outputs": [],
   "source": [
    "basemap_to_tiles(x)"
   ]
  },
  {
   "cell_type": "code",
   "execution_count": null,
   "metadata": {},
   "outputs": [],
   "source": []
  },
  {
   "cell_type": "code",
   "execution_count": null,
   "metadata": {},
   "outputs": [],
   "source": []
  }
 ],
 "metadata": {
  "kernelspec": {
   "display_name": "Python 3",
   "language": "python",
   "name": "python3"
  },
  "language_info": {
   "codemirror_mode": {
    "name": "ipython",
    "version": 3
   },
   "file_extension": ".py",
   "mimetype": "text/x-python",
   "name": "python",
   "nbconvert_exporter": "python",
   "pygments_lexer": "ipython3",
   "version": "3.6.5"
  }
 },
 "nbformat": 4,
 "nbformat_minor": 2
}
